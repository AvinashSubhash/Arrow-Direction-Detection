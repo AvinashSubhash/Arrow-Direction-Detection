{
  "nbformat": 4,
  "nbformat_minor": 0,
  "metadata": {
    "colab": {
      "name": "direction_detection_tensorflow.ipynb",
      "provenance": []
    },
    "kernelspec": {
      "name": "python3",
      "display_name": "Python 3"
    },
    "language_info": {
      "name": "python"
    },
    "accelerator": "GPU"
  },
  "cells": [
    {
      "cell_type": "code",
      "metadata": {
        "id": "h6I0uiqDkkTk"
      },
      "source": [
        "import tensorflow as tf\n",
        "from tensorflow import keras\n",
        "from keras.layers import Dense, Flatten,Conv2D,MaxPooling2D\n",
        "from keras.models import Sequential"
      ],
      "execution_count": 1,
      "outputs": []
    },
    {
      "cell_type": "code",
      "metadata": {
        "colab": {
          "base_uri": "https://localhost:8080/"
        },
        "id": "XyxphKormMBo",
        "outputId": "eccff1a1-1727-4507-8ffe-6af34badccfa"
      },
      "source": [
        "model = Sequential([\n",
        "                    Conv2D(16,(3,3),activation='relu',input_shape=(800,800,3)),\n",
        "                    MaxPooling2D(2,2),\n",
        "                    Conv2D(32,(3,3),activation='relu'),\n",
        "                    MaxPooling2D(2,2),\n",
        "                    Conv2D(64,(3,3),activation='relu'),\n",
        "                    MaxPooling2D(2,2),\n",
        "                    Conv2D(128,(3,3),activation='relu'),\n",
        "                    MaxPooling2D(2,2),\n",
        "                    Flatten(),\n",
        "                    Dense(128,activation='relu'),\n",
        "                    Dense(64,activation='relu'),\n",
        "                    Dense(32,activation='relu'),\n",
        "                    Dense(10,activation='relu'),\n",
        "                    Dense(1,activation='sigmoid')\n",
        "])\n",
        "model.summary()"
      ],
      "execution_count": 2,
      "outputs": [
        {
          "output_type": "stream",
          "text": [
            "Model: \"sequential\"\n",
            "_________________________________________________________________\n",
            "Layer (type)                 Output Shape              Param #   \n",
            "=================================================================\n",
            "conv2d (Conv2D)              (None, 798, 798, 16)      448       \n",
            "_________________________________________________________________\n",
            "max_pooling2d (MaxPooling2D) (None, 399, 399, 16)      0         \n",
            "_________________________________________________________________\n",
            "conv2d_1 (Conv2D)            (None, 397, 397, 32)      4640      \n",
            "_________________________________________________________________\n",
            "max_pooling2d_1 (MaxPooling2 (None, 198, 198, 32)      0         \n",
            "_________________________________________________________________\n",
            "conv2d_2 (Conv2D)            (None, 196, 196, 64)      18496     \n",
            "_________________________________________________________________\n",
            "max_pooling2d_2 (MaxPooling2 (None, 98, 98, 64)        0         \n",
            "_________________________________________________________________\n",
            "conv2d_3 (Conv2D)            (None, 96, 96, 128)       73856     \n",
            "_________________________________________________________________\n",
            "max_pooling2d_3 (MaxPooling2 (None, 48, 48, 128)       0         \n",
            "_________________________________________________________________\n",
            "flatten (Flatten)            (None, 294912)            0         \n",
            "_________________________________________________________________\n",
            "dense (Dense)                (None, 128)               37748864  \n",
            "_________________________________________________________________\n",
            "dense_1 (Dense)              (None, 64)                8256      \n",
            "_________________________________________________________________\n",
            "dense_2 (Dense)              (None, 32)                2080      \n",
            "_________________________________________________________________\n",
            "dense_3 (Dense)              (None, 10)                330       \n",
            "_________________________________________________________________\n",
            "dense_4 (Dense)              (None, 1)                 11        \n",
            "=================================================================\n",
            "Total params: 37,856,981\n",
            "Trainable params: 37,856,981\n",
            "Non-trainable params: 0\n",
            "_________________________________________________________________\n"
          ],
          "name": "stdout"
        }
      ]
    },
    {
      "cell_type": "code",
      "metadata": {
        "id": "AE_RNgR8poIn"
      },
      "source": [
        "model.compile(optimizer='RMSProp',loss=keras.losses.BinaryCrossentropy,metrics=['accuracy'])"
      ],
      "execution_count": 4,
      "outputs": []
    },
    {
      "cell_type": "code",
      "metadata": {
        "id": "iTy0c9wPB7Sj"
      },
      "source": [
        ""
      ],
      "execution_count": null,
      "outputs": []
    }
  ]
}